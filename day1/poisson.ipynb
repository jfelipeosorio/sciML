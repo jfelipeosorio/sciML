{
  "nbformat": 4,
  "nbformat_minor": 0,
  "metadata": {
    "colab": {
      "provenance": [],
      "collapsed_sections": [
        "l2NYg7Vgy_8q",
        "fwlyk3kO1ZU9",
        "sxGin3Y8k1ch",
        "AysQKNkX2NKv",
        "97HbRMM91sw9",
        "-We_xnhZ82j5",
        "uOO4cYMz9uWa",
        "ZxnQij_7a9gu",
        "Oa5Cx1ELnN99"
      ]
    },
    "kernelspec": {
      "name": "python3",
      "display_name": "Python 3"
    },
    "language_info": {
      "name": "python"
    }
  },
  "cells": [
    {
      "cell_type": "markdown",
      "source": [
        "# Poisson equation 1D using kernels\n",
        "***\n",
        "Created by: Juan Felipe Osorio Ramirez\n",
        "\n",
        "Department of Applied Mathematics, UW\n",
        "***"
      ],
      "metadata": {
        "id": "xT7YcXPNQWPy"
      }
    },
    {
      "cell_type": "markdown",
      "source": [
        "Consider the following problem on the interval $\\Omega = [0,1]$.\n",
        "\n",
        "> PDE: $-\\Delta u(x) = \\sin(x)$ for all $x \\in \\Omega$\n",
        "\n",
        "> BC's: $u(x)= 0$ for all $x\\in \\partial \\Omega$."
      ],
      "metadata": {
        "id": "16dokl-R0imr"
      }
    },
    {
      "cell_type": "markdown",
      "source": [
        "## Libraries"
      ],
      "metadata": {
        "id": "l2NYg7Vgy_8q"
      }
    },
    {
      "cell_type": "code",
      "execution_count": 1,
      "metadata": {
        "id": "IlP5Kce-O0X-"
      },
      "outputs": [],
      "source": [
        "import jax.numpy as np\n",
        "from jax import grad, jit\n",
        "from jax.scipy.optimize import minimize\n",
        "\n",
        "import numpy as np\n",
        "import matplotlib.pyplot as plt\n",
        "#from sklearn.preprocessing import MinMaxScaler\n",
        "from sklearn.kernel_ridge import KernelRidge\n",
        "#from parameter_learning import * DONE\n",
        "#from plotlib import *\n",
        "#from models import *\n",
        "#from interpolation import *\n",
        "#from kernels import * DONE\n",
        "from sklearn.metrics import mean_squared_error\n",
        "\n",
        "import jax.numpy as jnp\n",
        "from jax import grad, jacfwd, vmap, jit\n",
        "from jax.config import config;\n",
        "config.update(\"jax_enable_x64\", True)\n",
        "from sklearn.model_selection import KFold\n",
        "import scipy.spatial.distance as dist\n",
        "from functools import partial # for jit to make codes faster"
      ]
    },
    {
      "cell_type": "markdown",
      "source": [
        "## Utils"
      ],
      "metadata": {
        "id": "fwlyk3kO1ZU9"
      }
    },
    {
      "cell_type": "markdown",
      "source": [
        "### True solution"
      ],
      "metadata": {
        "id": "sxGin3Y8k1ch"
      }
    },
    {
      "cell_type": "code",
      "source": [
        "def u_true(x):\n",
        "  return -x*jnp.sin(1) + jnp.sin(x)"
      ],
      "metadata": {
        "id": "9oAeVea7k3L8"
      },
      "execution_count": 2,
      "outputs": []
    },
    {
      "cell_type": "markdown",
      "source": [
        "### Kernels"
      ],
      "metadata": {
        "id": "AysQKNkX2NKv"
      }
    },
    {
      "cell_type": "markdown",
      "source": [
        "Kernels to be used:"
      ],
      "metadata": {
        "id": "DtAJQNgz2Zgj"
      }
    },
    {
      "cell_type": "code",
      "source": [
        "# Gaussian Kernel\n",
        "def Gaussian(t,t_,params):\n",
        "\tsigma = params\n",
        "\tr2 = jnp.dot(t-t_,t-t_)\n",
        "\treturn jnp.exp(-r2/(2*sigma**2))\n",
        "\n",
        " # My Kernel\n"
      ],
      "metadata": {
        "id": "AxY_2OPK2MRC"
      },
      "execution_count": 3,
      "outputs": []
    },
    {
      "cell_type": "markdown",
      "source": [
        "`vmap` from `JAX` to create Gram matrices and their gradients"
      ],
      "metadata": {
        "id": "as0uT-hs2eVK"
      }
    },
    {
      "cell_type": "code",
      "source": [
        "def K(kernel, T, T_, params):\n",
        "\treturn vmap(lambda t: vmap(lambda t_: kernel(t,t_, params))(T_))(T)\n",
        "\n",
        "def K_dot(kernel, T ,T_, params, arg):\n",
        "\tK_Dot = jit(grad(kernel,arg))\n",
        "\treturn vmap(lambda t: vmap(lambda t_: K_Dot(t, t_, params))(T_))(T)\n",
        "\n",
        "def K_ddot(kernel, T ,T_, params, arg1, arg2):\n",
        "\tK_2Dot = jit(grad(grad(kernel,arg1),arg2))\n",
        "\treturn vmap(lambda t: vmap(lambda t_: K_2Dot(t ,t_, params))(T_))(T)\n",
        "\n",
        "def K_dddot(kernel, T ,T_, params, arg1, arg2, arg3):\n",
        "\tK_3Dot = jit(grad(grad(grad(kernel,arg1),arg2),arg3))\n",
        "\treturn vmap(lambda t: vmap(lambda t_: K_3Dot(t ,t_, params))(T_))(T)\n",
        "\n",
        "def K_ddddot(kernel, T ,T_, params, arg1, arg2, arg3, arg4):\n",
        "\tK_4Dot = jit(grad(grad(grad(grad(kernel,arg1),arg2),arg3),arg4))\n",
        "\treturn vmap(lambda t: vmap(lambda t_: K_4Dot(t ,t_, params))(T_))(T)"
      ],
      "metadata": {
        "id": "CVLP0jze2oxM"
      },
      "execution_count": 4,
      "outputs": []
    },
    {
      "cell_type": "markdown",
      "source": [
        "### Hyper-parameter learning"
      ],
      "metadata": {
        "id": "97HbRMM91sw9"
      }
    },
    {
      "cell_type": "code",
      "source": [
        "def grid_search_RBF(x_train,u_train, grid = False):\n",
        "  '''\n",
        "    x_train: N x d array with collocation points.\n",
        "    u_train: N x 1 values of u at x_train.\n",
        "    kernel: Kernel to learn its parameters.\n",
        "    grid: Bool. Output the value of the loss.\n",
        "  '''\n",
        "\n",
        "  k1 = 10 # size of grid for sigma\n",
        "  k2 = 20 # size of grid for regularization\n",
        "  n_splits = 5\n",
        "\n",
        "\n",
        "  k = np.linspace(10**-3, 2 , num=k1)\n",
        "  distances = dist.pdist(x_train) # pairwise distances\n",
        "  beta = np.median(distances) # median of the pairwise distances\n",
        "  # Search space for sigma\n",
        "  sgm = beta*k\n",
        "\n",
        "  # Search space for lambda\n",
        "  lmbd = 10**np.linspace(-12, 0, k2)\n",
        "\n",
        "  scores_rbf = np.zeros((k1, k2))\n",
        "  scores_std_rbf = np.zeros((k1, k2))\n",
        "\n",
        "  mses = []\n",
        "\n",
        "  for i in range(k1):\n",
        "    sigma = sgm[i]\n",
        "\n",
        "    for j in range(k2):\n",
        "      alpha = lmbd[j]\n",
        "\n",
        "      kf = KFold(n_splits = n_splits)\n",
        "      mse = 0.\n",
        "\n",
        "      for l, (train_index, test_index) in enumerate(kf.split(x_train)):\n",
        "        #print(f\"Fold {l}:\")\n",
        "        #print(f\"  Train: index={train_index}\")\n",
        "        xtrain, ytrain = x_train[train_index,:], u_train[train_index]\n",
        "        #print(f\"  Test:  index={test_index}\")\n",
        "        xtest, ytest = x_train[test_index,:], u_train[test_index]\n",
        "        # Train here\n",
        "        G = K(Gaussian,xtrain,xtrain,sigma)\n",
        "        M = (G + alpha*jnp.eye(xtrain.shape[0]))\n",
        "        alphas_lu = jnp.linalg.solve(M,ytrain)\n",
        "\n",
        "        # Predict on test data\n",
        "        k_test_train = K(Gaussian,xtest,xtrain,sigma)\n",
        "        y_pred = np.dot(k_test_train, alphas_lu)\n",
        "\n",
        "        mse += jnp.mean((y_pred - ytest)**2)\n",
        "\n",
        "      scores_rbf[i,j] = mse/n_splits\n",
        "\n",
        "  if grid:\n",
        "    print('The grid with the loss values is:')\n",
        "    print('NegMSEs are for every pair of indices: \\n {}'.format(np.round(scores_rbf,1)))\n",
        "\n",
        "\n",
        "  ij_min_rbf = np.array( np.where( scores_rbf == np.nanmin(scores_rbf) ), dtype=int).flatten()\n",
        "  optim_sgm = sgm[ij_min_rbf[0]]\n",
        "  optim_lmbd = lmbd[ij_min_rbf[1]]\n",
        "\n",
        "  return optim_sgm, optim_lmbd"
      ],
      "metadata": {
        "id": "X1EBe9RI1ae4"
      },
      "execution_count": 5,
      "outputs": []
    },
    {
      "cell_type": "markdown",
      "source": [
        "### Interpolation"
      ],
      "metadata": {
        "id": "-We_xnhZ82j5"
      }
    },
    {
      "cell_type": "code",
      "source": [
        "def kernel_parameters(X_train,U_train):\n",
        "    '''\n",
        "    X_train: N x d array with collocation points.\n",
        "    U_train: N x m array with values of u at X_train.\n",
        "    '''\n",
        "    m = U_train.shape[1] # Number of functions\n",
        "    N = len(X_train)\n",
        "    optim_sgm = np.zeros(m)\n",
        "    optim_lmbd = np.zeros(m)\n",
        "    alphas = np.zeros((N,m))\n",
        "    for i in range(m):\n",
        "        optim_sgm[i],optim_lmbd[i] = grid_search_RBF(X_train,U_train[:,i].reshape(-1,1))\n",
        "        G = K(Gaussian,X_train,X_train,optim_sgm[i])\n",
        "        M = (G + optim_lmbd[i]*jnp.eye(N))\n",
        "        alphas[:,i] = jnp.linalg.solve(M,U_train[:,i])\n",
        "    return optim_sgm, alphas, optim_lmbd"
      ],
      "metadata": {
        "id": "-EG6p9R_8sPb"
      },
      "execution_count": 6,
      "outputs": []
    },
    {
      "cell_type": "code",
      "source": [
        "def predictions(X, X_train, kernel, optim_sgm, alphas):\n",
        "    m = len(optim_sgm)\n",
        "    N = len(X)\n",
        "    u_pred      = np.zeros((N,m))\n",
        "    u_dot_pred  = np.zeros((N,m))\n",
        "    u_ddot_pred = np.zeros((N,m))\n",
        "    for i in range(m):\n",
        "        u_pred[:,i]      = np.dot(K(kernel, X, X_train, optim_sgm[i]), alphas[:,i])\n",
        "        u_dot_pred[:,i]  = np.dot(K_dot(kernel, X, X_train, optim_sgm[i], 0), alphas[:,i])\n",
        "        u_ddot_pred[:,i] = np.dot(K_ddot(kernel, X, X_train, optim_sgm[i], 0, 0), alphas[:,i])"
      ],
      "metadata": {
        "id": "xrq1GElf9Hep"
      },
      "execution_count": 7,
      "outputs": []
    },
    {
      "cell_type": "markdown",
      "source": [
        "### $K(\\phi,\\phi)$"
      ],
      "metadata": {
        "id": "uOO4cYMz9uWa"
      }
    },
    {
      "cell_type": "code",
      "source": [
        "def Kphiphi_assembly(Xomega, Xboundary, k = 'Gaussian', k_param = 1.):\n",
        "\n",
        "  # Set kernel to use\n",
        "  if k == 'Gaussian':\n",
        "    kernel = Gaussian\n",
        "\n",
        "  # Size of the square matrix\n",
        "  Momega = len(Xomega)\n",
        "  Mboundary = len(Xboundary)\n",
        "  M = Momega + Mboundary\n",
        "\n",
        "  # Initialize K(phi,phi)\n",
        "  Theta = jnp.zeros((M,M))\n",
        "\n",
        "  # Block 1,1\n",
        "  val = K_ddddot(kernel, Xomega, Xomega, k_param, 0, 0, 1, 1)\n",
        "  Theta = Theta.at[:Momega, :Momega].set(val)\n",
        "\n",
        "  # Block 1,2\n",
        "  val = -K_ddot(kernel, Xomega, Xboundary, k_param, 0, 0)\n",
        "  Theta = Theta.at[:Momega, Momega:].set(val)\n",
        "  Theta = Theta.at[Momega:, :Momega].set(jnp.transpose(val)) # Block 2,1\n",
        "\n",
        "  # Block 2,2\n",
        "  val = K(kernel, Xboundary , Xboundary, k_param)\n",
        "  Theta = Theta.at[Momega:, Momega:].set(val)\n",
        "\n",
        "  return Theta"
      ],
      "metadata": {
        "id": "5tok8Juc94Er"
      },
      "execution_count": 8,
      "outputs": []
    },
    {
      "cell_type": "code",
      "source": [
        "def Kphi_assembly(Xtest, Xomega, Xboundary, k = 'Gaussian', k_param = 1.):\n",
        "\n",
        "  # Set kernel to use\n",
        "  if k == 'Gaussian':\n",
        "    kernel = Gaussian\n",
        "\n",
        "  # Size of the square matrix\n",
        "  Momega = len(Xomega)\n",
        "  Mboundary = len(Xboundary)\n",
        "  Mtest = len(Xtest)\n",
        "  M = Momega + Mboundary\n",
        "\n",
        "  # Initialize K(phi,phi)\n",
        "  Theta = jnp.zeros((M,Mtest))\n",
        "\n",
        "  # Block 1\n",
        "  val = -K_ddot(kernel, Xomega, Xtest, k_param, 0, 0)\n",
        "  Theta = Theta.at[:Momega, :].set(val)\n",
        "\n",
        "  # Block 2\n",
        "  val = K(kernel, Xboundary , Xtest, k_param)\n",
        "  Theta = Theta.at[Momega:, :].set(val)\n",
        "\n",
        "\n",
        "  return Theta"
      ],
      "metadata": {
        "id": "DUzGJZaHin31"
      },
      "execution_count": 9,
      "outputs": []
    },
    {
      "cell_type": "markdown",
      "source": [
        "### Sources"
      ],
      "metadata": {
        "id": "ZxnQij_7a9gu"
      }
    },
    {
      "cell_type": "code",
      "source": [
        "def f(x):\n",
        "  return jnp.sin(x)"
      ],
      "metadata": {
        "id": "a5umbpbAa-y2"
      },
      "execution_count": 10,
      "outputs": []
    },
    {
      "cell_type": "code",
      "source": [
        "def g(x):\n",
        "  return jnp.zeros(jnp.size(x))"
      ],
      "metadata": {
        "id": "O1yzirKrbJUU"
      },
      "execution_count": 11,
      "outputs": []
    },
    {
      "cell_type": "markdown",
      "source": [
        "## Method"
      ],
      "metadata": {
        "id": "Oa5Cx1ELnN99"
      }
    },
    {
      "cell_type": "markdown",
      "source": [
        "### Sample collocation points in $\\Omega$"
      ],
      "metadata": {
        "id": "368urTVWa1rz"
      }
    },
    {
      "cell_type": "code",
      "source": [
        "# X_full\n",
        "Xfull = np.linspace(0,1,52)\n",
        "# X_{\\partial\\Omega}\n",
        "Xboundary = Xfull[[0,-1]]\n",
        "# X_\\Omega\n",
        "Xomega = Xfull[1:-1]\n",
        "# u(X_\\Omega,0)\n",
        "f_omega = f(Xomega)"
      ],
      "metadata": {
        "id": "0V0dFip9a2vN",
        "colab": {
          "base_uri": "https://localhost:8080/"
        },
        "outputId": "aefb17b4-ac16-4b69-cb40-da10c336fa88"
      },
      "execution_count": 12,
      "outputs": [
        {
          "output_type": "stream",
          "name": "stderr",
          "text": [
            "<ipython-input-10-238a74aab5e3>:2: DeprecationWarning: ml_dtypes.float8_e4m3b11 is deprecated. Use ml_dtypes.float8_e4m3b11fnuz\n",
            "  return jnp.sin(x)\n",
            "WARNING:jax._src.xla_bridge:No GPU/TPU found, falling back to CPU. (Set TF_CPP_MIN_LOG_LEVEL=0 and rerun for more info.)\n"
          ]
        }
      ]
    },
    {
      "cell_type": "markdown",
      "source": [
        "### Choose kernel and hyper-parameters"
      ],
      "metadata": {
        "id": "Pgb-6nwznX27"
      }
    },
    {
      "cell_type": "code",
      "source": [
        "lscale, reg = grid_search_RBF(Xomega.reshape(-1,1),f_omega)"
      ],
      "metadata": {
        "id": "rJ7sRN7QhhNq"
      },
      "execution_count": 13,
      "outputs": []
    },
    {
      "cell_type": "markdown",
      "source": [
        "### Build $K(\\varphi,\\varphi)$"
      ],
      "metadata": {
        "id": "_66MnpkLh5tj"
      }
    },
    {
      "cell_type": "code",
      "source": [
        "Kphiphi = Kphiphi_assembly(Xomega, Xboundary, k = 'Gaussian', k_param = lscale)"
      ],
      "metadata": {
        "id": "ta9iQ1sth5Vf"
      },
      "execution_count": 14,
      "outputs": []
    },
    {
      "cell_type": "markdown",
      "source": [
        "### Build $y$"
      ],
      "metadata": {
        "id": "HAFLGWGCi0So"
      }
    },
    {
      "cell_type": "code",
      "source": [
        "y = jnp.concatenate((f_omega,np.zeros((len(Xboundary)),)))"
      ],
      "metadata": {
        "id": "K9_QLGPMh0iU"
      },
      "execution_count": 15,
      "outputs": []
    },
    {
      "cell_type": "markdown",
      "source": [
        "### Compute $K(\\varphi,\\varphi)^{-1}y$"
      ],
      "metadata": {
        "id": "SDMVF8C6jEjA"
      }
    },
    {
      "cell_type": "code",
      "source": [
        "R = jnp.diag(jnp.diag(Kphiphi))\n",
        "sol = jnp.linalg.solve(Kphiphi + 1e-6*R,y)"
      ],
      "metadata": {
        "id": "HVQLze2jjBoX"
      },
      "execution_count": 16,
      "outputs": []
    },
    {
      "cell_type": "markdown",
      "source": [
        "### Compute $K(X_{\\text{test}},\\varphi)$"
      ],
      "metadata": {
        "id": "upiTjdWGjRNv"
      }
    },
    {
      "cell_type": "code",
      "source": [
        "Kphi = Kphi_assembly(Xfull, Xomega, Xboundary, k = 'Gaussian', k_param = lscale)"
      ],
      "metadata": {
        "id": "VzvmbHnwjNtF"
      },
      "execution_count": 17,
      "outputs": []
    },
    {
      "cell_type": "markdown",
      "source": [
        "### Compute solution"
      ],
      "metadata": {
        "id": "ras1KCxIjbBA"
      }
    },
    {
      "cell_type": "code",
      "source": [
        "u_pred = np.dot(Kphi.T,sol)"
      ],
      "metadata": {
        "id": "pPL7wpC2jVXa"
      },
      "execution_count": 18,
      "outputs": []
    },
    {
      "cell_type": "markdown",
      "source": [
        "Plot results"
      ],
      "metadata": {
        "id": "aZ3VzYy2n8R7"
      }
    },
    {
      "cell_type": "code",
      "source": [
        "# True solution\n",
        "plt.plot(Xfull, u_true(Xfull),'.-',label='true')\n",
        "# Predicted solution\n",
        "plt.plot(Xfull,u_pred,'.-',label='pred')\n",
        "# Plot settings\n",
        "nmse = mean_squared_error(u_pred,u_true(Xfull))/mean_squared_error(0*u_true(Xfull),u_true(Xfull))\n",
        "plt.title('Normalized MSE:{}'.format(nmse))\n",
        "plt.legend()\n",
        "plt.show()"
      ],
      "metadata": {
        "colab": {
          "base_uri": "https://localhost:8080/",
          "height": 0
        },
        "id": "MQb657lSjYSG",
        "outputId": "8f00e9d7-46f2-4ddd-a4d2-04ebe6b5bd21"
      },
      "execution_count": 19,
      "outputs": [
        {
          "output_type": "display_data",
          "data": {
            "text/plain": [
              "<Figure size 640x480 with 1 Axes>"
            ],
            "image/png": "[encoded data removed]"
          },
          "metadata": {}
        }
      ]
    },
    {
      "cell_type": "markdown",
      "source": [
        "## Problems"
      ],
      "metadata": {
        "id": "hpUz-F2in-73"
      }
    },
    {
      "cell_type": "markdown",
      "source": [
        "1. Reproduce the above problem using the Matérn kernel (define it and also build a function to tune its hyperparameters) for a special case of the Matérn kernel ,e.g., $\\nu=1/2$ and comment on the conditioning of the $K(\\varphi,\\varphi)$ matrix."
      ],
      "metadata": {
        "id": "7TeFSMJDem7h"
      }
    },
    {
      "cell_type": "markdown",
      "source": [
        "2. Generalize the above functions in `JAX` to solve the following Laplace type problem in the unit disk $\\Omega$ in the plane:\n",
        "\n",
        "> PDE: $\\Delta u(x,y) = 0$ for all $x \\in \\Omega$\n",
        "\n",
        "> BC's: $u(x,y)= \\sin(xy)$ for all $x\\in \\partial \\Omega$.\n"
      ],
      "metadata": {
        "id": "SY8ntf6_oBY4"
      }
    }
  ]
}